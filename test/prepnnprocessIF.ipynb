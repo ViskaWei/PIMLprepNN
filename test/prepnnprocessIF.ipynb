{
 "cells": [
  {
   "cell_type": "code",
   "execution_count": null,
   "id": "1526b1b5-0561-48a6-ab28-1b6497f171ee",
   "metadata": {},
   "outputs": [],
   "source": []
  },
  {
   "cell_type": "code",
   "execution_count": 1,
   "id": "e82616bf-ebaa-46d1-bed7-a533809543c9",
   "metadata": {},
   "outputs": [],
   "source": [
    "%load_ext autoreload\n",
    "%autoreload 2"
   ]
  },
  {
   "cell_type": "code",
   "execution_count": 2,
   "id": "6dfb5cbe-25c6-4f6c-9257-751f098dde7f",
   "metadata": {},
   "outputs": [
    {
     "data": {
      "text/plain": [
       "[None, None]"
      ]
     },
     "execution_count": 2,
     "metadata": {},
     "output_type": "execute_result"
    }
   ],
   "source": [
    "PROJECT_PATH = '../'\n",
    "import sys\n",
    "sys.path.insert(0, PROJECT_PATH)\n",
    "[sys.path.append(i) for i in ['.', '..']]"
   ]
  },
  {
   "cell_type": "code",
   "execution_count": 3,
   "id": "63914cfc-7171-49f6-a861-486b413599ff",
   "metadata": {},
   "outputs": [],
   "source": [
    "import os\n",
    "env_vars = !cat /home/swei20/PIML/PIMLspec/.env\n",
    "for var in env_vars:\n",
    "    key, value = var.split('=')\n",
    "    os.environ[key] = value"
   ]
  },
  {
   "cell_type": "code",
   "execution_count": 4,
   "id": "6bb95684-6bae-4d05-a758-006174802cb8",
   "metadata": {},
   "outputs": [],
   "source": [
    "import numpy as np\n",
    "import copy\n",
    "import matplotlib.pyplot as plt\n"
   ]
  },
  {
   "cell_type": "code",
   "execution_count": 33,
   "id": "3dbec372-172c-4010-b319-b68632c56265",
   "metadata": {},
   "outputs": [],
   "source": [
    "from prepnn.interface.gateway.prepnnprocessIF import StellarPrepNNProcessIF"
   ]
  },
  {
   "cell_type": "code",
   "execution_count": 34,
   "id": "b182eb6a-38fe-4881-a719-bfd02eb2b034",
   "metadata": {},
   "outputs": [],
   "source": [
    "PIF = StellarPrepNNProcessIF()"
   ]
  },
  {
   "cell_type": "code",
   "execution_count": 35,
   "id": "b55845eb-0a1d-4ecc-a608-7a6177320402",
   "metadata": {},
   "outputs": [],
   "source": [
    "PIF.interact({})"
   ]
  },
  {
   "cell_type": "code",
   "execution_count": 36,
   "id": "3e07273b-4510-4e29-8673-b5ccc8411427",
   "metadata": {
    "collapsed": true,
    "jupyter": {
     "outputs_hidden": true
    },
    "tags": []
   },
   "outputs": [
    {
     "data": {
      "text/plain": [
       "{'label': array([[0.25379244, 0.12453467, 0.12279703, 0.98846848, 0.35148495],\n",
       "        [0.41690113, 0.90603921, 0.32394078, 0.24143196, 0.3641907 ],\n",
       "        [0.9763168 , 0.47615755, 0.29289727, 0.63318225, 0.4288834 ],\n",
       "        ...,\n",
       "        [0.93519243, 0.50452286, 0.55912257, 0.93155645, 0.2772544 ],\n",
       "        [0.72070695, 0.10973866, 0.25165368, 0.06954241, 0.40976353],\n",
       "        [0.61206778, 0.66992421, 0.45332823, 0.10248448, 0.74138193]]),\n",
       " 'data': array([[14.43100072, 14.4181913 , 14.40277608, ..., 14.04008469,\n",
       "         14.05680573, 14.03083528],\n",
       "        [14.97185231, 14.9650148 , 14.96093304, ..., 14.5263432 ,\n",
       "         14.52665532, 14.51205075],\n",
       "        [14.73627187, 14.71231209, 14.7030185 , ..., 14.30780586,\n",
       "         14.3071996 , 14.29371846],\n",
       "        ...,\n",
       "        [14.74981976, 14.72550904, 14.70937569, ..., 14.31490216,\n",
       "         14.31194699, 14.2973367 ],\n",
       "        [14.43674565, 14.41782032, 14.42144044, ..., 14.0432013 ,\n",
       "         14.0588094 , 14.04183591],\n",
       "        [14.83895779, 14.82912575, 14.82793935, ..., 14.39837441,\n",
       "         14.4044019 , 14.3897363 ]]),\n",
       " 'sigma': array([[0.83243777, 0.83280746, 0.83325302, ..., 0.84394693, 0.84344483,\n",
       "         0.84422505],\n",
       "        [0.81726374, 0.81745043, 0.81756193, ..., 0.82970145, 0.82969254,\n",
       "         0.83010992],\n",
       "        [0.82377041, 0.82444091, 0.82470143, ..., 0.83601387, 0.83603158,\n",
       "         0.83642574],\n",
       "        ...,\n",
       "        [0.823392  , 0.8240714 , 0.8245232 , ..., 0.83580662, 0.83589291,\n",
       "         0.83631989],\n",
       "        [0.83227212, 0.83281818, 0.83271364, ..., 0.84385327, 0.84338472,\n",
       "         0.8438943 ],\n",
       "        [0.82091521, 0.8211873 , 0.82122015, ..., 0.83338037, 0.83320599,\n",
       "         0.83363047]])}"
      ]
     },
     "execution_count": 36,
     "metadata": {},
     "output_type": "execute_result"
    }
   ],
   "source": [
    "\n",
    "PIF.Object.train"
   ]
  },
  {
   "cell_type": "code",
   "execution_count": null,
   "id": "3ff54439-71cf-4cc3-a643-c92ee96a327a",
   "metadata": {},
   "outputs": [],
   "source": []
  }
 ],
 "metadata": {
  "kernelspec": {
   "display_name": "Python 3 [viska-tf28]",
   "language": "python",
   "name": "python3-viska-tf28"
  },
  "language_info": {
   "codemirror_mode": {
    "name": "ipython",
    "version": 3
   },
   "file_extension": ".py",
   "mimetype": "text/x-python",
   "name": "python",
   "nbconvert_exporter": "python",
   "pygments_lexer": "ipython3",
   "version": "3.9.7"
  }
 },
 "nbformat": 4,
 "nbformat_minor": 5
}
